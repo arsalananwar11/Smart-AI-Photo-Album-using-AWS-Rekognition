{
 "cells": [
  {
   "cell_type": "code",
   "execution_count": 1,
   "metadata": {},
   "outputs": [],
   "source": [
    "import json\n",
    "import boto3\n",
    "import os\n",
    "from elasticsearch import Elasticsearch "
   ]
  },
  {
   "cell_type": "code",
   "execution_count": 2,
   "metadata": {},
   "outputs": [],
   "source": [
    "ES_HOST=\"<ES_HOST>\"\n",
    "ES_INDEX_NAME=\"photos\"\n",
    "ES_PASSWORD=\"<ES_PASSWORD>\"\n",
    "ES_USERNAME=\"<ES_USERNAME>\""
   ]
  },
  {
   "cell_type": "code",
   "execution_count": 3,
   "metadata": {},
   "outputs": [
    {
     "name": "stdout",
     "output_type": "stream",
     "text": [
      "Elasticsearch Response: {'_index': 'photos', '_type': '_doc', '_id': 't_Ezd5MB9WCD3VWX2Le4', '_version': 1, 'result': 'created', '_shards': {'total': 2, 'successful': 1, 'failed': 0}, '_seq_no': 0, '_primary_term': 1}\n"
     ]
    }
   ],
   "source": [
    "client = Elasticsearch(\n",
    "    hosts=[{'host': ES_HOST, 'port': 443}],\n",
    "    http_auth=(ES_USERNAME, ES_PASSWORD),\n",
    "    scheme=\"https\",\n",
    "    port=443\n",
    ")\n",
    "\n",
    "document={'temp': 'temp'}\n",
    "response = client.index(\n",
    "    index=ES_INDEX_NAME,\n",
    "    body=document\n",
    ")\n",
    "\n",
    "print(f\"Elasticsearch Response: {response}\")"
   ]
  },
  {
   "cell_type": "code",
   "execution_count": null,
   "metadata": {},
   "outputs": [],
   "source": []
  }
 ],
 "metadata": {
  "kernelspec": {
   "display_name": "venv",
   "language": "python",
   "name": "python3"
  },
  "language_info": {
   "codemirror_mode": {
    "name": "ipython",
    "version": 3
   },
   "file_extension": ".py",
   "mimetype": "text/x-python",
   "name": "python",
   "nbconvert_exporter": "python",
   "pygments_lexer": "ipython3",
   "version": "3.13.0"
  }
 },
 "nbformat": 4,
 "nbformat_minor": 2
}
